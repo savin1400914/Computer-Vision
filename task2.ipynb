{
 "cells": [
  {
   "cell_type": "code",
   "execution_count": 1,
   "metadata": {},
   "outputs": [],
   "source": [
    "import os\n",
    "import cv2\n",
    "import numpy as np\n",
    "from matplotlib import pyplot as plt\n",
    "from skimage import img_as_float"
   ]
  },
  {
   "cell_type": "code",
   "execution_count": 2,
   "metadata": {},
   "outputs": [],
   "source": [
    "def modify_saturation(image_name, ratio=1.2):\n",
    "  print('start modify saturation')\n",
    "  bgr_image = cv2.imread(image_name, 1)\n",
    "  lab_image = cv2.cvtColor(bgr_image, cv2.COLOR_BGR2LAB)\n",
    "  l = np.array(lab_image[:, :, 0], np.float32)\n",
    "  a = np.array(lab_image[:, :, 1], np.float32)\n",
    "  b = np.array(lab_image[:, :, 2], np.float32)\n",
    "  h, w = a.shape\n",
    "  for i in range(h):\n",
    "    for k in range(w):\n",
    "      a[i, k] = min(255, a[i, k] * ratio)\n",
    "  h, w = b.shape\n",
    "  for i in range(h):\n",
    "    for k in range(w):\n",
    "      b[i, k] = min(255, b[i, k] * ratio)\n",
    "  res = cv2.merge([l, a, b])\n",
    "  res = cv2.cvtColor(res.astype('uint8'), cv2.COLOR_LAB2BGR)\n",
    "  print(image_name + '_modify_saturation'+ '_' + str(ratio) + '.jpg')\n",
    "  cv2.imwrite(image_name + '_modify_saturation'+ '_' + str(ratio) + '.jpg',res)\n",
    "  print('done modify saturation')"
   ]
  },
  {
   "cell_type": "code",
   "execution_count": 3,
   "metadata": {},
   "outputs": [],
   "source": [
    "def modify_brightness(image_name, delta=50):\n",
    "  print('start modify brightness')\n",
    "  image = cv2.imread(image_name, 1)\n",
    "  lab_image = cv2.cvtColor(image, cv2.COLOR_BGR2LAB)\n",
    "  l = np.array(lab_image[:, :, 0], np.float32)\n",
    "  h, w = l.shape\n",
    "  for i in range(h):\n",
    "    for k in range(w):\n",
    "      # Если выйдем за границы 255, в некоторых местах \n",
    "      # вместо белого получим черные пятна\n",
    "      l[i, k] = min(255, l[i, k] + delta)\n",
    "  a = np.array(lab_image[:, :, 1], np.float32)\n",
    "  b = np.array(lab_image[:, :, 2], np.float32)\n",
    "  res = cv2.merge([l, a, b])\n",
    "  res = cv2.cvtColor(res.astype('uint8'), cv2.COLOR_LAB2BGR)\n",
    "  print(image_name + '_modify_brightness'+ '_' + str(delta)+'.jpg')\n",
    "  cv2.imwrite(image_name + '_modify_brightness'+ '_' + str(delta) + '.jpg', res)\n",
    "  print('done modify brightness')"
   ]
  },
  {
   "cell_type": "code",
   "execution_count": 11,
   "metadata": {},
   "outputs": [
    {
     "name": "stdout",
     "output_type": "stream",
     "text": [
      "c:\\Users\\Egor\\Desktop\\fil\n",
      "start modify saturation\n",
      "c:\\Users\\Egor\\Desktop\\fil//task2//2.jpg_modify_saturation_1.2.jpg\n",
      "done modify saturation\n"
     ]
    }
   ],
   "source": [
    "curpath = os.getcwd()\n",
    "print(curpath)\n",
    "img_path = f'{curpath}//task2//2.jpg'\n",
    "modify_saturation(img_path, 1.2)"
   ]
  },
  {
   "cell_type": "code",
   "execution_count": 12,
   "metadata": {},
   "outputs": [
    {
     "name": "stdout",
     "output_type": "stream",
     "text": [
      "start modify brightness\n",
      "c:\\Users\\Egor\\Desktop\\fil//task2//1.jpg_modify_brightness_80.jpg\n",
      "done modify brightness\n"
     ]
    }
   ],
   "source": [
    "img_path2 = f'{curpath}//task2//1.jpg'\n",
    "modify_brightness(img_path2, 80)"
   ]
  }
 ],
 "metadata": {
  "kernelspec": {
   "display_name": "Python 3",
   "language": "python",
   "name": "python3"
  },
  "language_info": {
   "codemirror_mode": {
    "name": "ipython",
    "version": 3
   },
   "file_extension": ".py",
   "mimetype": "text/x-python",
   "name": "python",
   "nbconvert_exporter": "python",
   "pygments_lexer": "ipython3",
   "version": "3.11.2"
  },
  "orig_nbformat": 4
 },
 "nbformat": 4,
 "nbformat_minor": 2
}
